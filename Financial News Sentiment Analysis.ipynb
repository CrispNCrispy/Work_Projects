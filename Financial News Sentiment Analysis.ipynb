{
 "cells": [
  {
   "cell_type": "markdown",
   "metadata": {},
   "source": [
    "# Financial News Sentiment Analysis"
   ]
  },
  {
   "cell_type": "markdown",
   "metadata": {},
   "source": [
    "1. Multinomial Naive Bayes\n",
    "2. Logisitic Regression\n",
    "3. SVM\n",
    "4. Deep Learning (LSTMs)\n",
    "5. BERT"
   ]
  },
  {
   "cell_type": "markdown",
   "metadata": {},
   "source": [
    "## Import libraries"
   ]
  },
  {
   "cell_type": "code",
   "execution_count": 66,
   "metadata": {},
   "outputs": [
    {
     "name": "stdout",
     "output_type": "stream",
     "text": [
      "Collecting simpletransformers\n",
      "  Downloading simpletransformers-0.48.15-py3-none-any.whl (215 kB)\n",
      "\u001b[K     |████████████████████████████████| 215 kB 1.8 MB/s eta 0:00:01\n",
      "\u001b[?25hRequirement already satisfied: pandas in /home/crispy/anaconda3/lib/python3.7/site-packages (from simpletransformers) (1.0.1)\n",
      "Collecting tqdm>=4.47.0\n",
      "  Downloading tqdm-4.51.0-py2.py3-none-any.whl (70 kB)\n",
      "\u001b[K     |████████████████████████████████| 70 kB 5.2 MB/s  eta 0:00:01\n",
      "\u001b[?25hRequirement already satisfied: numpy in /home/crispy/anaconda3/lib/python3.7/site-packages (from simpletransformers) (1.18.1)\n",
      "Collecting seqeval\n",
      "  Downloading seqeval-1.2.2.tar.gz (43 kB)\n",
      "\u001b[K     |████████████████████████████████| 43 kB 2.1 MB/s  eta 0:00:01\n",
      "\u001b[?25hRequirement already satisfied: requests in /home/crispy/anaconda3/lib/python3.7/site-packages (from simpletransformers) (2.22.0)\n",
      "Collecting tokenizers\n",
      "  Downloading tokenizers-0.9.3-cp37-cp37m-manylinux1_x86_64.whl (2.9 MB)\n",
      "\u001b[K     |████████████████████████████████| 2.9 MB 7.3 MB/s eta 0:00:01    |█▏                              | 102 kB 7.3 MB/s eta 0:00:01\n",
      "\u001b[?25hRequirement already satisfied: scipy in /home/crispy/anaconda3/lib/python3.7/site-packages (from simpletransformers) (1.4.1)\n",
      "Requirement already satisfied: scikit-learn in /home/crispy/anaconda3/lib/python3.7/site-packages (from simpletransformers) (0.22.1)\n",
      "Collecting streamlit\n",
      "  Downloading streamlit-0.70.0-py2.py3-none-any.whl (7.4 MB)\n",
      "\u001b[K     |████████████████████████████████| 7.4 MB 4.9 MB/s eta 0:00:01\n",
      "\u001b[?25hCollecting transformers>=3.0.2\n",
      "  Downloading transformers-3.4.0-py3-none-any.whl (1.3 MB)\n",
      "\u001b[K     |████████████████████████████████| 1.3 MB 6.6 MB/s eta 0:00:01\n",
      "\u001b[?25hCollecting wandb\n",
      "  Downloading wandb-0.10.9-py2.py3-none-any.whl (1.8 MB)\n",
      "\u001b[K     |████████████████████████████████| 1.8 MB 939 kB/s eta 0:00:01\n",
      "\u001b[?25hCollecting tensorboardx\n",
      "  Downloading tensorboardX-2.1-py2.py3-none-any.whl (308 kB)\n",
      "\u001b[K     |████████████████████████████████| 308 kB 661 kB/s eta 0:00:01\n",
      "\u001b[?25hCollecting regex\n",
      "  Downloading regex-2020.10.28-cp37-cp37m-manylinux2014_x86_64.whl (721 kB)\n",
      "\u001b[K     |████████████████████████████████| 721 kB 177 kB/s eta 0:00:01\n",
      "\u001b[?25hRequirement already satisfied: python-dateutil>=2.6.1 in /home/crispy/anaconda3/lib/python3.7/site-packages (from pandas->simpletransformers) (2.8.1)\n",
      "Requirement already satisfied: pytz>=2017.2 in /home/crispy/anaconda3/lib/python3.7/site-packages (from pandas->simpletransformers) (2019.3)\n",
      "Requirement already satisfied: idna<2.9,>=2.5 in /home/crispy/anaconda3/lib/python3.7/site-packages (from requests->simpletransformers) (2.8)\n",
      "Requirement already satisfied: chardet<3.1.0,>=3.0.2 in /home/crispy/anaconda3/lib/python3.7/site-packages (from requests->simpletransformers) (3.0.4)\n",
      "Requirement already satisfied: urllib3!=1.25.0,!=1.25.1,<1.26,>=1.21.1 in /home/crispy/anaconda3/lib/python3.7/site-packages (from requests->simpletransformers) (1.25.8)\n",
      "Requirement already satisfied: certifi>=2017.4.17 in /home/crispy/anaconda3/lib/python3.7/site-packages (from requests->simpletransformers) (2019.11.28)\n",
      "Requirement already satisfied: joblib>=0.11 in /home/crispy/anaconda3/lib/python3.7/site-packages (from scikit-learn->simpletransformers) (0.14.1)\n",
      "Collecting botocore>=1.13.44\n",
      "  Downloading botocore-1.19.13-py2.py3-none-any.whl (6.7 MB)\n",
      "\u001b[K     |████████████████████████████████| 6.7 MB 4.7 MB/s eta 0:00:01\n",
      "\u001b[33mWARNING: Retrying (Retry(total=4, connect=None, read=None, redirect=None, status=None)) after connection broken by 'ReadTimeoutError(\"HTTPSConnectionPool(host='pypi.org', port=443): Read timed out. (read timeout=15)\")': /simple/gitpython/\u001b[0m\n",
      "\u001b[?25hCollecting gitpython\n",
      "  Downloading GitPython-3.1.11-py3-none-any.whl (159 kB)\n",
      "\u001b[K     |████████████████████████████████| 159 kB 6.6 MB/s eta 0:00:01\n",
      "\u001b[?25hCollecting validators\n",
      "  Downloading validators-0.18.1-py3-none-any.whl (19 kB)\n",
      "Collecting astor\n",
      "  Downloading astor-0.8.1-py2.py3-none-any.whl (27 kB)\n",
      "Collecting boto3\n",
      "  Downloading boto3-1.16.13-py2.py3-none-any.whl (129 kB)\n",
      "\u001b[K     |████████████████████████████████| 129 kB 6.6 MB/s eta 0:00:01\n",
      "\u001b[?25hCollecting enum-compat\n",
      "  Downloading enum_compat-0.0.3-py3-none-any.whl (1.3 kB)\n",
      "Requirement already satisfied: pillow>=6.2.0 in /home/crispy/anaconda3/lib/python3.7/site-packages (from streamlit->simpletransformers) (7.0.0)\n",
      "Requirement already satisfied: blinker in /home/crispy/anaconda3/lib/python3.7/site-packages (from streamlit->simpletransformers) (1.4)\n",
      "Requirement already satisfied: tornado>=5.0 in /home/crispy/anaconda3/lib/python3.7/site-packages (from streamlit->simpletransformers) (6.0.3)\n",
      "Collecting pydeck>=0.1.dev5\n",
      "  Downloading pydeck-0.5.0-py2.py3-none-any.whl (4.5 MB)\n",
      "\u001b[K     |████████████████████████████████| 4.5 MB 3.9 MB/s eta 0:00:01\n",
      "\u001b[?25hCollecting pyarrow\n",
      "  Downloading pyarrow-2.0.0-cp37-cp37m-manylinux2014_x86_64.whl (17.7 MB)\n",
      "\u001b[K     |████████████████████████████████| 17.7 MB 4.3 MB/s eta 0:00:01\n",
      "\u001b[?25hCollecting base58\n",
      "  Downloading base58-2.0.1-py3-none-any.whl (4.3 kB)\n",
      "Requirement already satisfied: watchdog in /home/crispy/anaconda3/lib/python3.7/site-packages (from streamlit->simpletransformers) (0.10.2)\n",
      "Requirement already satisfied: click>=7.0 in /home/crispy/anaconda3/lib/python3.7/site-packages (from streamlit->simpletransformers) (7.0)\n",
      "Collecting toml\n",
      "  Downloading toml-0.10.2-py2.py3-none-any.whl (16 kB)\n",
      "Requirement already satisfied: packaging in /home/crispy/anaconda3/lib/python3.7/site-packages (from streamlit->simpletransformers) (20.1)\n",
      "Collecting altair>=3.2.0\n",
      "  Downloading altair-4.1.0-py3-none-any.whl (727 kB)\n",
      "\u001b[K     |████████████████████████████████| 727 kB 5.5 MB/s eta 0:00:01\n",
      "\u001b[?25hRequirement already satisfied: protobuf>=3.6.0 in /home/crispy/anaconda3/lib/python3.7/site-packages (from streamlit->simpletransformers) (3.13.0)\n",
      "Collecting tzlocal\n",
      "  Downloading tzlocal-2.1-py2.py3-none-any.whl (16 kB)\n",
      "Requirement already satisfied: cachetools>=4.0 in /home/crispy/anaconda3/lib/python3.7/site-packages (from streamlit->simpletransformers) (4.1.1)\n",
      "Collecting sacremoses\n",
      "  Downloading sacremoses-0.0.43.tar.gz (883 kB)\n",
      "\u001b[K     |████████████████████████████████| 883 kB 5.9 MB/s eta 0:00:01\n",
      "\u001b[?25hRequirement already satisfied: filelock in /home/crispy/anaconda3/lib/python3.7/site-packages (from transformers>=3.0.2->simpletransformers) (3.0.12)\n",
      "Collecting sentencepiece!=0.1.92\n",
      "  Downloading sentencepiece-0.1.94-cp37-cp37m-manylinux2014_x86_64.whl (1.1 MB)\n",
      "\u001b[K     |████████████████████████████████| 1.1 MB 3.4 MB/s eta 0:00:01\n",
      "\u001b[?25hCollecting subprocess32>=3.5.3\n",
      "  Downloading subprocess32-3.5.4.tar.gz (97 kB)\n",
      "\u001b[K     |████████████████████████████████| 97 kB 3.8 MB/s eta 0:00:011\n",
      "\u001b[?25hCollecting sentry-sdk>=0.4.0\n",
      "  Downloading sentry_sdk-0.19.2-py2.py3-none-any.whl (127 kB)\n",
      "\u001b[K     |████████████████████████████████| 127 kB 3.5 MB/s eta 0:00:01\n",
      "\u001b[?25hRequirement already satisfied: PyYAML in /home/crispy/anaconda3/lib/python3.7/site-packages (from wandb->simpletransformers) (5.3)\n",
      "Collecting shortuuid>=0.5.0\n",
      "  Downloading shortuuid-1.0.1-py3-none-any.whl (7.5 kB)\n",
      "Requirement already satisfied: psutil>=5.0.0 in /home/crispy/anaconda3/lib/python3.7/site-packages (from wandb->simpletransformers) (5.6.7)\n",
      "Collecting docker-pycreds>=0.4.0\n",
      "  Downloading docker_pycreds-0.4.0-py2.py3-none-any.whl (9.0 kB)\n",
      "Collecting configparser>=3.8.1\n",
      "  Downloading configparser-5.0.1-py3-none-any.whl (22 kB)\n",
      "Requirement already satisfied: six>=1.13.0 in /home/crispy/anaconda3/lib/python3.7/site-packages (from wandb->simpletransformers) (1.14.0)\n",
      "Collecting promise<3,>=2.0\n",
      "  Downloading promise-2.3.tar.gz (19 kB)\n",
      "Collecting jmespath<1.0.0,>=0.7.1\n",
      "  Downloading jmespath-0.10.0-py2.py3-none-any.whl (24 kB)\n",
      "Collecting gitdb<5,>=4.0.1\n",
      "  Downloading gitdb-4.0.5-py3-none-any.whl (63 kB)\n",
      "\u001b[K     |████████████████████████████████| 63 kB 1.3 MB/s eta 0:00:011\n",
      "\u001b[?25hRequirement already satisfied: decorator>=3.4.0 in /home/crispy/anaconda3/lib/python3.7/site-packages (from validators->streamlit->simpletransformers) (4.4.1)\n",
      "Collecting s3transfer<0.4.0,>=0.3.0\n",
      "  Downloading s3transfer-0.3.3-py2.py3-none-any.whl (69 kB)\n",
      "\u001b[K     |████████████████████████████████| 69 kB 3.3 MB/s eta 0:00:01\n",
      "\u001b[?25hRequirement already satisfied: ipykernel>=5.1.2; python_version >= \"3.4\" in /home/crispy/anaconda3/lib/python3.7/site-packages (from pydeck>=0.1.dev5->streamlit->simpletransformers) (5.1.4)\n",
      "Requirement already satisfied: jinja2>=2.10.1 in /home/crispy/anaconda3/lib/python3.7/site-packages (from pydeck>=0.1.dev5->streamlit->simpletransformers) (2.11.1)\n",
      "Requirement already satisfied: ipywidgets>=7.0.0 in /home/crispy/anaconda3/lib/python3.7/site-packages (from pydeck>=0.1.dev5->streamlit->simpletransformers) (7.5.1)\n",
      "Requirement already satisfied: traitlets>=4.3.2 in /home/crispy/anaconda3/lib/python3.7/site-packages (from pydeck>=0.1.dev5->streamlit->simpletransformers) (4.3.3)\n",
      "Requirement already satisfied: pathtools>=0.1.1 in /home/crispy/anaconda3/lib/python3.7/site-packages (from watchdog->streamlit->simpletransformers) (0.1.2)\n",
      "Requirement already satisfied: pyparsing>=2.0.2 in /home/crispy/anaconda3/lib/python3.7/site-packages (from packaging->streamlit->simpletransformers) (2.4.6)\n",
      "Requirement already satisfied: entrypoints in /home/crispy/anaconda3/lib/python3.7/site-packages (from altair>=3.2.0->streamlit->simpletransformers) (0.3)\n"
     ]
    },
    {
     "name": "stdout",
     "output_type": "stream",
     "text": [
      "Requirement already satisfied: toolz in /home/crispy/anaconda3/lib/python3.7/site-packages (from altair>=3.2.0->streamlit->simpletransformers) (0.10.0)\n",
      "Requirement already satisfied: jsonschema in /home/crispy/anaconda3/lib/python3.7/site-packages (from altair>=3.2.0->streamlit->simpletransformers) (3.2.0)\n",
      "Requirement already satisfied: setuptools in /home/crispy/anaconda3/lib/python3.7/site-packages (from protobuf>=3.6.0->streamlit->simpletransformers) (45.2.0.post20200210)\n",
      "Collecting smmap<4,>=3.0.1\n",
      "  Downloading smmap-3.0.4-py2.py3-none-any.whl (25 kB)\n",
      "Requirement already satisfied: jupyter-client in /home/crispy/anaconda3/lib/python3.7/site-packages (from ipykernel>=5.1.2; python_version >= \"3.4\"->pydeck>=0.1.dev5->streamlit->simpletransformers) (5.3.4)\n",
      "Requirement already satisfied: ipython>=5.0.0 in /home/crispy/anaconda3/lib/python3.7/site-packages (from ipykernel>=5.1.2; python_version >= \"3.4\"->pydeck>=0.1.dev5->streamlit->simpletransformers) (7.12.0)\n",
      "Requirement already satisfied: MarkupSafe>=0.23 in /home/crispy/anaconda3/lib/python3.7/site-packages (from jinja2>=2.10.1->pydeck>=0.1.dev5->streamlit->simpletransformers) (1.1.1)\n",
      "Requirement already satisfied: nbformat>=4.2.0 in /home/crispy/anaconda3/lib/python3.7/site-packages (from ipywidgets>=7.0.0->pydeck>=0.1.dev5->streamlit->simpletransformers) (5.0.4)\n",
      "Requirement already satisfied: widgetsnbextension~=3.5.0 in /home/crispy/anaconda3/lib/python3.7/site-packages (from ipywidgets>=7.0.0->pydeck>=0.1.dev5->streamlit->simpletransformers) (3.5.1)\n",
      "Requirement already satisfied: ipython-genutils in /home/crispy/anaconda3/lib/python3.7/site-packages (from traitlets>=4.3.2->pydeck>=0.1.dev5->streamlit->simpletransformers) (0.2.0)\n",
      "Requirement already satisfied: pyrsistent>=0.14.0 in /home/crispy/anaconda3/lib/python3.7/site-packages (from jsonschema->altair>=3.2.0->streamlit->simpletransformers) (0.15.7)\n",
      "Requirement already satisfied: importlib-metadata; python_version < \"3.8\" in /home/crispy/anaconda3/lib/python3.7/site-packages (from jsonschema->altair>=3.2.0->streamlit->simpletransformers) (1.7.0)\n",
      "Requirement already satisfied: attrs>=17.4.0 in /home/crispy/anaconda3/lib/python3.7/site-packages (from jsonschema->altair>=3.2.0->streamlit->simpletransformers) (19.3.0)\n",
      "Requirement already satisfied: pyzmq>=13 in /home/crispy/anaconda3/lib/python3.7/site-packages (from jupyter-client->ipykernel>=5.1.2; python_version >= \"3.4\"->pydeck>=0.1.dev5->streamlit->simpletransformers) (18.1.1)\n",
      "Requirement already satisfied: jupyter-core>=4.6.0 in /home/crispy/anaconda3/lib/python3.7/site-packages (from jupyter-client->ipykernel>=5.1.2; python_version >= \"3.4\"->pydeck>=0.1.dev5->streamlit->simpletransformers) (4.6.1)\n",
      "Requirement already satisfied: pygments in /home/crispy/anaconda3/lib/python3.7/site-packages (from ipython>=5.0.0->ipykernel>=5.1.2; python_version >= \"3.4\"->pydeck>=0.1.dev5->streamlit->simpletransformers) (2.5.2)\n",
      "Requirement already satisfied: jedi>=0.10 in /home/crispy/anaconda3/lib/python3.7/site-packages (from ipython>=5.0.0->ipykernel>=5.1.2; python_version >= \"3.4\"->pydeck>=0.1.dev5->streamlit->simpletransformers) (0.14.1)\n",
      "Requirement already satisfied: backcall in /home/crispy/anaconda3/lib/python3.7/site-packages (from ipython>=5.0.0->ipykernel>=5.1.2; python_version >= \"3.4\"->pydeck>=0.1.dev5->streamlit->simpletransformers) (0.1.0)\n",
      "Requirement already satisfied: pexpect; sys_platform != \"win32\" in /home/crispy/anaconda3/lib/python3.7/site-packages (from ipython>=5.0.0->ipykernel>=5.1.2; python_version >= \"3.4\"->pydeck>=0.1.dev5->streamlit->simpletransformers) (4.8.0)\n",
      "Requirement already satisfied: prompt-toolkit!=3.0.0,!=3.0.1,<3.1.0,>=2.0.0 in /home/crispy/anaconda3/lib/python3.7/site-packages (from ipython>=5.0.0->ipykernel>=5.1.2; python_version >= \"3.4\"->pydeck>=0.1.dev5->streamlit->simpletransformers) (3.0.3)\n",
      "Requirement already satisfied: pickleshare in /home/crispy/anaconda3/lib/python3.7/site-packages (from ipython>=5.0.0->ipykernel>=5.1.2; python_version >= \"3.4\"->pydeck>=0.1.dev5->streamlit->simpletransformers) (0.7.5)\n",
      "Requirement already satisfied: notebook>=4.4.1 in /home/crispy/anaconda3/lib/python3.7/site-packages (from widgetsnbextension~=3.5.0->ipywidgets>=7.0.0->pydeck>=0.1.dev5->streamlit->simpletransformers) (6.0.3)\n",
      "Requirement already satisfied: zipp>=0.5 in /home/crispy/anaconda3/lib/python3.7/site-packages (from importlib-metadata; python_version < \"3.8\"->jsonschema->altair>=3.2.0->streamlit->simpletransformers) (2.2.0)\n",
      "Requirement already satisfied: parso>=0.5.0 in /home/crispy/anaconda3/lib/python3.7/site-packages (from jedi>=0.10->ipython>=5.0.0->ipykernel>=5.1.2; python_version >= \"3.4\"->pydeck>=0.1.dev5->streamlit->simpletransformers) (0.5.2)\n",
      "Requirement already satisfied: ptyprocess>=0.5 in /home/crispy/anaconda3/lib/python3.7/site-packages (from pexpect; sys_platform != \"win32\"->ipython>=5.0.0->ipykernel>=5.1.2; python_version >= \"3.4\"->pydeck>=0.1.dev5->streamlit->simpletransformers) (0.6.0)\n",
      "Requirement already satisfied: wcwidth in /home/crispy/anaconda3/lib/python3.7/site-packages (from prompt-toolkit!=3.0.0,!=3.0.1,<3.1.0,>=2.0.0->ipython>=5.0.0->ipykernel>=5.1.2; python_version >= \"3.4\"->pydeck>=0.1.dev5->streamlit->simpletransformers) (0.1.8)\n",
      "Requirement already satisfied: prometheus-client in /home/crispy/anaconda3/lib/python3.7/site-packages (from notebook>=4.4.1->widgetsnbextension~=3.5.0->ipywidgets>=7.0.0->pydeck>=0.1.dev5->streamlit->simpletransformers) (0.7.1)\n",
      "Requirement already satisfied: Send2Trash in /home/crispy/anaconda3/lib/python3.7/site-packages (from notebook>=4.4.1->widgetsnbextension~=3.5.0->ipywidgets>=7.0.0->pydeck>=0.1.dev5->streamlit->simpletransformers) (1.5.0)\n",
      "Requirement already satisfied: nbconvert in /home/crispy/anaconda3/lib/python3.7/site-packages (from notebook>=4.4.1->widgetsnbextension~=3.5.0->ipywidgets>=7.0.0->pydeck>=0.1.dev5->streamlit->simpletransformers) (5.6.1)\n",
      "Requirement already satisfied: terminado>=0.8.1 in /home/crispy/anaconda3/lib/python3.7/site-packages (from notebook>=4.4.1->widgetsnbextension~=3.5.0->ipywidgets>=7.0.0->pydeck>=0.1.dev5->streamlit->simpletransformers) (0.8.3)\n",
      "Requirement already satisfied: testpath in /home/crispy/anaconda3/lib/python3.7/site-packages (from nbconvert->notebook>=4.4.1->widgetsnbextension~=3.5.0->ipywidgets>=7.0.0->pydeck>=0.1.dev5->streamlit->simpletransformers) (0.4.4)\n",
      "Requirement already satisfied: pandocfilters>=1.4.1 in /home/crispy/anaconda3/lib/python3.7/site-packages (from nbconvert->notebook>=4.4.1->widgetsnbextension~=3.5.0->ipywidgets>=7.0.0->pydeck>=0.1.dev5->streamlit->simpletransformers) (1.4.2)\n",
      "Requirement already satisfied: defusedxml in /home/crispy/anaconda3/lib/python3.7/site-packages (from nbconvert->notebook>=4.4.1->widgetsnbextension~=3.5.0->ipywidgets>=7.0.0->pydeck>=0.1.dev5->streamlit->simpletransformers) (0.6.0)\n",
      "Requirement already satisfied: mistune<2,>=0.8.1 in /home/crispy/anaconda3/lib/python3.7/site-packages (from nbconvert->notebook>=4.4.1->widgetsnbextension~=3.5.0->ipywidgets>=7.0.0->pydeck>=0.1.dev5->streamlit->simpletransformers) (0.8.4)\n",
      "Requirement already satisfied: bleach in /home/crispy/anaconda3/lib/python3.7/site-packages (from nbconvert->notebook>=4.4.1->widgetsnbextension~=3.5.0->ipywidgets>=7.0.0->pydeck>=0.1.dev5->streamlit->simpletransformers) (3.1.0)\n",
      "Requirement already satisfied: webencodings in /home/crispy/anaconda3/lib/python3.7/site-packages (from bleach->nbconvert->notebook>=4.4.1->widgetsnbextension~=3.5.0->ipywidgets>=7.0.0->pydeck>=0.1.dev5->streamlit->simpletransformers) (0.5.1)\n",
      "Building wheels for collected packages: seqeval, sacremoses, subprocess32, promise\n",
      "  Building wheel for seqeval (setup.py) ... \u001b[?25ldone\n",
      "\u001b[?25h  Created wheel for seqeval: filename=seqeval-1.2.2-py3-none-any.whl size=16170 sha256=1cff4ef624a7f7960bf7aaf705a732fe24f07269e5880a122e57464a53d5c1c3\n",
      "  Stored in directory: /home/crispy/.cache/pip/wheels/05/96/ee/7cac4e74f3b19e3158dce26a20a1c86b3533c43ec72a549fd7\n",
      "  Building wheel for sacremoses (setup.py) ... \u001b[?25ldone\n",
      "\u001b[?25h  Created wheel for sacremoses: filename=sacremoses-0.0.43-py3-none-any.whl size=893259 sha256=75947fc2c080cf57036240a14575c64f1ec52a7858e868f80d942baac0b508f6\n",
      "  Stored in directory: /home/crispy/.cache/pip/wheels/69/09/d1/bf058f7d6fa0ecba2ce7c66be3b8d012beb4bf61a6e0c101c0\n"
     ]
    },
    {
     "name": "stdout",
     "output_type": "stream",
     "text": [
      "  Building wheel for subprocess32 (setup.py) ... \u001b[?25ldone\n",
      "\u001b[?25h  Created wheel for subprocess32: filename=subprocess32-3.5.4-py3-none-any.whl size=6489 sha256=e54378da9e3e00eacba37f14e2b54aa0bce64ad455a029ba919060b9babcdcc3\n",
      "  Stored in directory: /home/crispy/.cache/pip/wheels/50/ca/fa/8fca8d246e64f19488d07567547ddec8eb084e8c0d7a59226a\n",
      "  Building wheel for promise (setup.py) ... \u001b[?25ldone\n",
      "\u001b[?25h  Created wheel for promise: filename=promise-2.3-py3-none-any.whl size=21495 sha256=f2a8ab822fba4ba16d792aa68da09e3b4f38e62e1a475451e79e7c3d23400d55\n",
      "  Stored in directory: /home/crispy/.cache/pip/wheels/29/93/c6/762e359f8cb6a5b69c72235d798804cae523bbe41c2aa8333d\n",
      "Successfully built seqeval sacremoses subprocess32 promise\n",
      "\u001b[31mERROR: fastai 1.0.61 requires torch>=1.0.0, which is not installed.\u001b[0m\n",
      "\u001b[31mERROR: fastai 1.0.61 requires torchvision, which is not installed.\u001b[0m\n",
      "\u001b[31mERROR: transformers 3.4.0 has requirement tokenizers==0.9.2, but you'll have tokenizers 0.9.3 which is incompatible.\u001b[0m\n",
      "Installing collected packages: tqdm, seqeval, tokenizers, jmespath, botocore, smmap, gitdb, gitpython, validators, astor, s3transfer, boto3, enum-compat, pydeck, pyarrow, base58, toml, altair, tzlocal, streamlit, regex, sacremoses, sentencepiece, transformers, subprocess32, sentry-sdk, shortuuid, docker-pycreds, configparser, promise, wandb, tensorboardx, simpletransformers\n",
      "  Attempting uninstall: tqdm\n",
      "    Found existing installation: tqdm 4.42.1\n",
      "    Uninstalling tqdm-4.42.1:\n",
      "      Successfully uninstalled tqdm-4.42.1\n",
      "Successfully installed altair-4.1.0 astor-0.8.1 base58-2.0.1 boto3-1.16.13 botocore-1.19.13 configparser-5.0.1 docker-pycreds-0.4.0 enum-compat-0.0.3 gitdb-4.0.5 gitpython-3.1.11 jmespath-0.10.0 promise-2.3 pyarrow-2.0.0 pydeck-0.5.0 regex-2020.10.28 s3transfer-0.3.3 sacremoses-0.0.43 sentencepiece-0.1.94 sentry-sdk-0.19.2 seqeval-1.2.2 shortuuid-1.0.1 simpletransformers-0.48.15 smmap-3.0.4 streamlit-0.70.0 subprocess32-3.5.4 tensorboardx-2.1 tokenizers-0.9.3 toml-0.10.2 tqdm-4.51.0 transformers-3.4.0 tzlocal-2.1 validators-0.18.1 wandb-0.10.9\n"
     ]
    }
   ],
   "source": [
    "!pip install simpletransformers"
   ]
  },
  {
   "cell_type": "code",
   "execution_count": 1,
   "metadata": {},
   "outputs": [
    {
     "name": "stderr",
     "output_type": "stream",
     "text": [
      "wandb: WARNING W&B installed but not logged in.  Run `wandb login` or set the WANDB_API_KEY env variable.\n"
     ]
    }
   ],
   "source": [
    "import pandas as pd\n",
    "import numpy as np\n",
    "import matplotlib.pyplot as plt\n",
    "import seaborn as sns\n",
    "import tensorflow as tf\n",
    "\n",
    "from sklearn.model_selection import train_test_split\n",
    "from sklearn.feature_extraction.text import CountVectorizer, TfidfTransformer\n",
    "from sklearn.naive_bayes import MultinomialNB\n",
    "from sklearn.linear_model import LogisticRegression\n",
    "from sklearn.svm import SVC\n",
    "from sklearn.metrics import accuracy_score, classification_report, confusion_matrix\n",
    "\n",
    "from tensorflow.keras.preprocessing.text import Tokenizer\n",
    "from tensorflow.keras.preprocessing.sequence import pad_sequences\n",
    "from tensorflow.keras.models import Sequential\n",
    "from tensorflow.keras.layers import Dense, LSTM, Bidirectional, Embedding\n",
    "\n",
    "from simpletransformers.classification import ClassificationModel, ClassificationArgs\n",
    "\n",
    "import warnings\n",
    "warnings.filterwarnings(\"ignore\")\n",
    "\n",
    "%matplotlib inline"
   ]
  },
  {
   "cell_type": "code",
   "execution_count": 2,
   "metadata": {},
   "outputs": [],
   "source": [
    "gpus = tf.config.experimental.list_physical_devices('GPU')\n",
    "if gpus:\n",
    "  try:\n",
    "    tf.config.experimental.set_virtual_device_configuration(gpus[0], [tf.config.experimental.VirtualDeviceConfiguration(memory_limit=2500)])\n",
    "  except RuntimeError as e:\n",
    "    print(e)"
   ]
  },
  {
   "cell_type": "markdown",
   "metadata": {},
   "source": [
    "## Load the data"
   ]
  },
  {
   "cell_type": "code",
   "execution_count": 3,
   "metadata": {},
   "outputs": [
    {
     "name": "stdout",
     "output_type": "stream",
     "text": [
      "<class 'pandas.core.frame.DataFrame'>\n",
      "Int64Index: 4838 entries, 0 to 4845\n",
      "Data columns (total 2 columns):\n",
      " #   Column  Non-Null Count  Dtype \n",
      "---  ------  --------------  ----- \n",
      " 0   Target  4838 non-null   object\n",
      " 1   News    4838 non-null   object\n",
      "dtypes: object(2)\n",
      "memory usage: 113.4+ KB\n"
     ]
    }
   ],
   "source": [
    "df = pd.read_csv('all-data.csv',encoding='ISO-8859-1',header=None,names=['Target','News'])\n",
    "df.drop_duplicates(subset=['News'],inplace=True)\n",
    "df.info()"
   ]
  },
  {
   "cell_type": "code",
   "execution_count": 4,
   "metadata": {},
   "outputs": [],
   "source": [
    "X,y = df['News'], df['Target']"
   ]
  },
  {
   "cell_type": "code",
   "execution_count": 5,
   "metadata": {},
   "outputs": [
    {
     "name": "stdout",
     "output_type": "stream",
     "text": [
      "News Item 2964: In volume , the focus is already outside Finland , as 60 % of the group 's products are made in Poland and the Baltic countries .\n",
      "Sentiment: neutral\n",
      "\n",
      "\n",
      "News Item 4033: Operating loss of the Pulp & Paper Machinery unit was over EUR 3mn in September 2007 - August 2008 , compared to a profit of EUR 3.7 mn a year earlier .\n",
      "Sentiment: negative\n",
      "\n",
      "\n",
      "News Item 4750: Operating profit in the fourth quarter fell to EUR33m from EUR39m a year earlier .\n",
      "Sentiment: negative\n",
      "\n",
      "\n",
      "News Item 1502: At a press conference , Lattelecom board chairman Nils Melngailis explained that Blackstone had been chosen for its experience in the IT sector as well as its financial strength .\n",
      "Sentiment: positive\n",
      "\n",
      "\n",
      "News Item 845: Hearst will be able to consolidate about 20 % of all Russian market for advertising in press after the purchase .\n",
      "Sentiment: positive\n",
      "\n",
      "\n",
      "News Item 2748: Finnish power company Fortum reports 89 % of its electricity was generated without carbon dioxide emissions in 2007 .\n",
      "Sentiment: neutral\n",
      "\n",
      "\n",
      "News Item 2409: As an alternative to the share exchange , Panostaja offers a full cash consideration at the value of 1.27 euro $ 1.7 per share .\n",
      "Sentiment: neutral\n",
      "\n",
      "\n",
      "News Item 4818: Finnish-Swedish Stora Enso does not understand the decision issued by a federal judge in Brazil concerning Stora Enso 's associated pulp company Veracel .\n",
      "Sentiment: negative\n",
      "\n",
      "\n",
      "News Item 427: Finnish heat-retaining fireplaces maker Tulikivi Oyj said on August 29 , 2007 that its local tiled stoves and utility ceramics subsidiary Kermansavi Oy will merge into Tulikivi by means of absorption in order to streamline the latest 's corporate structure .\n",
      "Sentiment: neutral\n",
      "\n",
      "\n",
      "News Item 2534: Oriola-KD expects its invoicing in 2008 to be higher than the comparable invoicing of 2007 .\n",
      "Sentiment: positive\n",
      "\n",
      "\n"
     ]
    }
   ],
   "source": [
    "for i in np.random.randint(X.shape[0],size=10):\n",
    "    print(f'News Item {i}: {X[i]}')\n",
    "    print(f'Sentiment: {y[i]}')\n",
    "    print('\\n')"
   ]
  },
  {
   "cell_type": "markdown",
   "metadata": {},
   "source": [
    "One can see that the data has been preprocessed to an extent such "
   ]
  },
  {
   "cell_type": "code",
   "execution_count": 6,
   "metadata": {},
   "outputs": [
    {
     "name": "stdout",
     "output_type": "stream",
     "text": [
      "Number of headlines: 4838\n"
     ]
    }
   ],
   "source": [
    "print(f'Number of headlines: {X.shape[0]}')"
   ]
  },
  {
   "cell_type": "code",
   "execution_count": 7,
   "metadata": {},
   "outputs": [
    {
     "data": {
      "image/png": "[encoded data removed]",
      "text/plain": [
       "<Figure size 432x288 with 1 Axes>"
      ]
     },
     "metadata": {
      "needs_background": "light"
     },
     "output_type": "display_data"
    }
   ],
   "source": [
    "sns.countplot(y)\n",
    "plt.show()"
   ]
  },
  {
   "cell_type": "code",
   "execution_count": 8,
   "metadata": {
    "scrolled": true
   },
   "outputs": [
    {
     "data": {
      "text/plain": [
       "neutral     2872\n",
       "positive    1362\n",
       "negative     604\n",
       "Name: Target, dtype: int64"
      ]
     },
     "execution_count": 8,
     "metadata": {},
     "output_type": "execute_result"
    }
   ],
   "source": [
    "y.value_counts()"
   ]
  },
  {
   "cell_type": "code",
   "execution_count": 9,
   "metadata": {},
   "outputs": [
    {
     "data": {
      "image/png": "[encoded data removed]",
      "text/plain": [
       "<Figure size 432x288 with 1 Axes>"
      ]
     },
     "metadata": {
      "needs_background": "light"
     },
     "output_type": "display_data"
    }
   ],
   "source": [
    "X[y=='neutral'].apply(len).plot.hist(bins=20)\n",
    "plt.show()"
   ]
  },
  {
   "cell_type": "code",
   "execution_count": 10,
   "metadata": {},
   "outputs": [
    {
     "data": {
      "image/png": "[encoded data removed]",
      "text/plain": [
       "<Figure size 432x288 with 1 Axes>"
      ]
     },
     "metadata": {
      "needs_background": "light"
     },
     "output_type": "display_data"
    }
   ],
   "source": [
    "X[y=='positive'].apply(len).plot.hist(bins=20)\n",
    "plt.show()"
   ]
  },
  {
   "cell_type": "code",
   "execution_count": 11,
   "metadata": {},
   "outputs": [
    {
     "data": {
      "image/png": "[encoded data removed]",
      "text/plain": [
       "<Figure size 432x288 with 1 Axes>"
      ]
     },
     "metadata": {
      "needs_background": "light"
     },
     "output_type": "display_data"
    }
   ],
   "source": [
    "X[y=='negative'].apply(len).plot.hist(bins=20)\n",
    "plt.show()"
   ]
  },
  {
   "cell_type": "code",
   "execution_count": 12,
   "metadata": {},
   "outputs": [],
   "source": [
    "target_dict = {'neutral':0, 'negative':1,'positive':2}\n",
    "y = y.map(target_dict)"
   ]
  },
  {
   "cell_type": "code",
   "execution_count": 13,
   "metadata": {},
   "outputs": [
    {
     "data": {
      "text/plain": [
       "0    2872\n",
       "2    1362\n",
       "1     604\n",
       "Name: Target, dtype: int64"
      ]
     },
     "execution_count": 13,
     "metadata": {},
     "output_type": "execute_result"
    }
   ],
   "source": [
    "y.value_counts()"
   ]
  },
  {
   "cell_type": "markdown",
   "metadata": {},
   "source": [
    "### Split the Dataset"
   ]
  },
  {
   "cell_type": "code",
   "execution_count": 219,
   "metadata": {},
   "outputs": [],
   "source": [
    "X_train, X_test, y_train, y_test = train_test_split(X,y,test_size=0.2,stratify=y, random_state=0)"
   ]
  },
  {
   "cell_type": "markdown",
   "metadata": {},
   "source": [
    "## Models without preprocessing"
   ]
  },
  {
   "cell_type": "markdown",
   "metadata": {},
   "source": [
    "**Bag of Words Model to preprocess text into a suitable form**"
   ]
  },
  {
   "cell_type": "code",
   "execution_count": 220,
   "metadata": {},
   "outputs": [],
   "source": [
    "count_vec = CountVectorizer(max_features=8000, ngram_range=(1,2))\n",
    "tfidf = TfidfTransformer()"
   ]
  },
  {
   "cell_type": "code",
   "execution_count": 221,
   "metadata": {},
   "outputs": [],
   "source": [
    "X_train_features = count_vec.fit_transform(X_train)\n",
    "X_test_features = count_vec.transform(X_test)\n",
    "\n",
    "X_train_features = tfidf.fit_transform(X_train_features)\n",
    "X_test_features = tfidf.transform(X_test_features)"
   ]
  },
  {
   "cell_type": "code",
   "execution_count": 222,
   "metadata": {},
   "outputs": [
    {
     "data": {
      "text/plain": [
       "(3870, 8000)"
      ]
     },
     "execution_count": 222,
     "metadata": {},
     "output_type": "execute_result"
    }
   ],
   "source": [
    "X_train_features.shape"
   ]
  },
  {
   "cell_type": "markdown",
   "metadata": {},
   "source": [
    "### Multinomial Naive Bayes"
   ]
  },
  {
   "cell_type": "code",
   "execution_count": 223,
   "metadata": {},
   "outputs": [],
   "source": [
    "nb_clf = MultinomialNB()\n",
    "\n",
    "nb_clf.fit(X_train_features, y_train)\n",
    "\n",
    "y_pred_train = nb_clf.predict(X_train_features)\n",
    "y_pred_test = nb_clf.predict(X_test_features)"
   ]
  },
  {
   "cell_type": "code",
   "execution_count": 224,
   "metadata": {},
   "outputs": [
    {
     "name": "stdout",
     "output_type": "stream",
     "text": [
      "Training Accuracy: 77.95865633074935\n",
      "Test Accuracy: 71.28099173553719\n"
     ]
    }
   ],
   "source": [
    "print(\"Training Accuracy:\",accuracy_score(y_train,y_pred_train)*100)\n",
    "print(\"Test Accuracy:\",accuracy_score(y_test,y_pred_test)*100)"
   ]
  },
  {
   "cell_type": "code",
   "execution_count": 225,
   "metadata": {},
   "outputs": [
    {
     "name": "stdout",
     "output_type": "stream",
     "text": [
      "              precision    recall  f1-score   support\n",
      "\n",
      "           0       0.71      0.98      0.82       575\n",
      "           1       0.85      0.14      0.24       121\n",
      "           2       0.71      0.40      0.52       272\n",
      "\n",
      "    accuracy                           0.71       968\n",
      "   macro avg       0.76      0.51      0.53       968\n",
      "weighted avg       0.73      0.71      0.66       968\n",
      "\n"
     ]
    }
   ],
   "source": [
    "print(classification_report(y_test, y_pred_test))"
   ]
  },
  {
   "cell_type": "code",
   "execution_count": 226,
   "metadata": {},
   "outputs": [
    {
     "data": {
      "image/png": "[encoded data removed]",
      "text/plain": [
       "<Figure size 432x288 with 2 Axes>"
      ]
     },
     "metadata": {
      "needs_background": "light"
     },
     "output_type": "display_data"
    }
   ],
   "source": [
    "cm = confusion_matrix(y_test, y_pred_test)\n",
    "group_counts = [\"{0:0.0f}\".format(value) for value in cm.flatten()]\n",
    "group_percentages = [\"{0:.2%}\".format(value) for value in cm.flatten()/np.sum(cm)]\n",
    "labels = [f\"{v1}\\n{v2}\" for v1, v2 in zip(group_counts,group_percentages)]\n",
    "labels = np.asarray(labels).reshape(3,3)\n",
    "sns.heatmap(cm, annot=labels, fmt=\"\", cmap='Blues')\n",
    "plt.show()"
   ]
  },
  {
   "cell_type": "markdown",
   "metadata": {},
   "source": [
    "### Logistic Regression"
   ]
  },
  {
   "cell_type": "code",
   "execution_count": 100,
   "metadata": {},
   "outputs": [],
   "source": [
    "lr = LogisticRegression()\n",
    "\n",
    "lr.fit(X_train_features, y_train)\n",
    "\n",
    "y_pred_train = lr.predict(X_train_features)\n",
    "y_pred_test = lr.predict(X_test_features)"
   ]
  },
  {
   "cell_type": "code",
   "execution_count": 101,
   "metadata": {},
   "outputs": [
    {
     "name": "stdout",
     "output_type": "stream",
     "text": [
      "Training Accuracy: 88.21705426356588\n",
      "Test Accuracy: 77.37603305785123\n"
     ]
    }
   ],
   "source": [
    "print(\"Training Accuracy:\",accuracy_score(y_train,y_pred_train)*100)\n",
    "print(\"Test Accuracy:\",accuracy_score(y_test,y_pred_test)*100)"
   ]
  },
  {
   "cell_type": "code",
   "execution_count": 102,
   "metadata": {},
   "outputs": [
    {
     "name": "stdout",
     "output_type": "stream",
     "text": [
      "              precision    recall  f1-score   support\n",
      "\n",
      "           0       0.76      0.95      0.84       575\n",
      "           1       0.90      0.51      0.65       121\n",
      "           2       0.79      0.52      0.63       272\n",
      "\n",
      "    accuracy                           0.77       968\n",
      "   macro avg       0.82      0.66      0.71       968\n",
      "weighted avg       0.78      0.77      0.76       968\n",
      "\n"
     ]
    }
   ],
   "source": [
    "print(classification_report(y_test, y_pred_test))"
   ]
  },
  {
   "cell_type": "code",
   "execution_count": 103,
   "metadata": {},
   "outputs": [
    {
     "data": {
      "image/png": "[encoded data removed]",
      "text/plain": [
       "<Figure size 432x288 with 2 Axes>"
      ]
     },
     "metadata": {
      "needs_background": "light"
     },
     "output_type": "display_data"
    }
   ],
   "source": [
    "cm = confusion_matrix(y_test, y_pred_test)\n",
    "group_counts = [\"{0:0.0f}\".format(value) for value in cm.flatten()]\n",
    "group_percentages = [\"{0:.2%}\".format(value) for value in cm.flatten()/np.sum(cm)]\n",
    "labels = [f\"{v1}\\n{v2}\" for v1, v2 in zip(group_counts,group_percentages)]\n",
    "labels = np.asarray(labels).reshape(3,3)\n",
    "sns.heatmap(cm, annot=labels, fmt=\"\", cmap='Blues')\n",
    "plt.show()"
   ]
  },
  {
   "cell_type": "markdown",
   "metadata": {},
   "source": [
    "### Support Vector Machine"
   ]
  },
  {
   "cell_type": "code",
   "execution_count": 104,
   "metadata": {},
   "outputs": [],
   "source": [
    "svc = SVC()\n",
    "\n",
    "svc.fit(X_train_features, y_train)\n",
    "\n",
    "y_pred_train = svc.predict(X_train_features)\n",
    "y_pred_test = svc.predict(X_test_features)"
   ]
  },
  {
   "cell_type": "code",
   "execution_count": 105,
   "metadata": {},
   "outputs": [
    {
     "name": "stdout",
     "output_type": "stream",
     "text": [
      "Training Accuracy: 96.74418604651163\n",
      "Test Accuracy: 76.03305785123968\n"
     ]
    }
   ],
   "source": [
    "print(\"Training Accuracy:\",accuracy_score(y_train,y_pred_train)*100)\n",
    "print(\"Test Accuracy:\",accuracy_score(y_test,y_pred_test)*100)"
   ]
  },
  {
   "cell_type": "code",
   "execution_count": 106,
   "metadata": {},
   "outputs": [
    {
     "name": "stdout",
     "output_type": "stream",
     "text": [
      "              precision    recall  f1-score   support\n",
      "\n",
      "           0       0.74      0.97      0.83       575\n",
      "           1       0.93      0.46      0.62       121\n",
      "           2       0.82      0.46      0.59       272\n",
      "\n",
      "    accuracy                           0.76       968\n",
      "   macro avg       0.83      0.63      0.68       968\n",
      "weighted avg       0.78      0.76      0.74       968\n",
      "\n"
     ]
    }
   ],
   "source": [
    "print(classification_report(y_test, y_pred_test))"
   ]
  },
  {
   "cell_type": "code",
   "execution_count": 107,
   "metadata": {},
   "outputs": [
    {
     "data": {
      "image/png": "[encoded data removed]",
      "text/plain": [
       "<Figure size 432x288 with 2 Axes>"
      ]
     },
     "metadata": {
      "needs_background": "light"
     },
     "output_type": "display_data"
    }
   ],
   "source": [
    "cm = confusion_matrix(y_test, y_pred_test)\n",
    "group_counts = [\"{0:0.0f}\".format(value) for value in cm.flatten()]\n",
    "group_percentages = [\"{0:.2%}\".format(value) for value in cm.flatten()/np.sum(cm)]\n",
    "labels = [f\"{v1}\\n{v2}\" for v1, v2 in zip(group_counts,group_percentages)]\n",
    "labels = np.asarray(labels).reshape(3,3)\n",
    "sns.heatmap(cm, annot=labels, fmt=\"\", cmap='Blues')\n",
    "plt.show()"
   ]
  },
  {
   "cell_type": "markdown",
   "metadata": {},
   "source": [
    "### Neural Network"
   ]
  },
  {
   "cell_type": "code",
   "execution_count": 131,
   "metadata": {},
   "outputs": [],
   "source": [
    "# Number of unique words to include \n",
    "VOCAB_SIZE = 9000\n",
    "\n",
    "# Length of each sentence. Sentences shorter than this will be padded and sentences longer will be truncated\n",
    "MAX_LENGTH = 300\n",
    "\n",
    "# Define the Out of Vocabulary character\n",
    "OOV_TOK = '<UNK>'"
   ]
  },
  {
   "cell_type": "code",
   "execution_count": 132,
   "metadata": {},
   "outputs": [],
   "source": [
    "tokenizer = Tokenizer(num_words=VOCAB_SIZE, oov_token=OOV_TOK, filters='!\"#$&()*+,-./:;<=>?@[\\]^_`{|}~')\n",
    "tokenizer.fit_on_texts(X_train)"
   ]
  },
  {
   "cell_type": "code",
   "execution_count": 133,
   "metadata": {},
   "outputs": [],
   "source": [
    "word_index = tokenizer.word_index"
   ]
  },
  {
   "cell_type": "code",
   "execution_count": 134,
   "metadata": {},
   "outputs": [],
   "source": [
    "X_sequences_train = tokenizer.texts_to_sequences(X_train)\n",
    "X_sequences_test = tokenizer.texts_to_sequences(X_test)"
   ]
  },
  {
   "cell_type": "code",
   "execution_count": 135,
   "metadata": {},
   "outputs": [],
   "source": [
    "X_NN_train = pad_sequences(X_sequences_train, maxlen=MAX_LENGTH, padding='post',truncating='pre')\n",
    "X_NN_test = pad_sequences(X_sequences_test, maxlen=MAX_LENGTH, padding='post',truncating='pre')"
   ]
  },
  {
   "cell_type": "code",
   "execution_count": 136,
   "metadata": {},
   "outputs": [
    {
     "data": {
      "text/plain": [
       "(3870, 300)"
      ]
     },
     "execution_count": 136,
     "metadata": {},
     "output_type": "execute_result"
    }
   ],
   "source": [
    "X_NN_train.shape"
   ]
  },
  {
   "cell_type": "code",
   "execution_count": 137,
   "metadata": {},
   "outputs": [],
   "source": [
    "EMBEDDING_DIM = 128"
   ]
  },
  {
   "cell_type": "code",
   "execution_count": 138,
   "metadata": {},
   "outputs": [],
   "source": [
    "model = Sequential([\n",
    "    Embedding(VOCAB_SIZE, EMBEDDING_DIM, input_length=MAX_LENGTH, mask_zero=True),\n",
    "    Bidirectional(LSTM(64, return_sequences=True)),\n",
    "    Bidirectional(LSTM(32)),\n",
    "    Dense(64, activation=\"relu\"),\n",
    "    Dense(3, activation=\"softmax\")\n",
    "])"
   ]
  },
  {
   "cell_type": "code",
   "execution_count": 139,
   "metadata": {},
   "outputs": [
    {
     "name": "stdout",
     "output_type": "stream",
     "text": [
      "Model: \"sequential_6\"\n",
      "_________________________________________________________________\n",
      "Layer (type)                 Output Shape              Param #   \n",
      "=================================================================\n",
      "embedding_6 (Embedding)      (None, 300, 128)          1152000   \n",
      "_________________________________________________________________\n",
      "bidirectional_12 (Bidirectio (None, 300, 128)          98816     \n",
      "_________________________________________________________________\n",
      "bidirectional_13 (Bidirectio (None, 64)                41216     \n",
      "_________________________________________________________________\n",
      "dense_12 (Dense)             (None, 64)                4160      \n",
      "_________________________________________________________________\n",
      "dense_13 (Dense)             (None, 3)                 195       \n",
      "=================================================================\n",
      "Total params: 1,296,387\n",
      "Trainable params: 1,296,387\n",
      "Non-trainable params: 0\n",
      "_________________________________________________________________\n"
     ]
    }
   ],
   "source": [
    "model.summary()"
   ]
  },
  {
   "cell_type": "code",
   "execution_count": 140,
   "metadata": {},
   "outputs": [],
   "source": [
    "model.compile(optimizer=\"adam\", loss=\"sparse_categorical_crossentropy\", metrics=[\"accuracy\"])"
   ]
  },
  {
   "cell_type": "code",
   "execution_count": 141,
   "metadata": {},
   "outputs": [
    {
     "name": "stdout",
     "output_type": "stream",
     "text": [
      "Epoch 1/20\n",
      "61/61 [==============================] - 6s 92ms/step - loss: 0.8752 - accuracy: 0.6220 - val_loss: 0.7523 - val_accuracy: 0.6581\n",
      "Epoch 2/20\n",
      "61/61 [==============================] - 2s 35ms/step - loss: 0.4873 - accuracy: 0.7987 - val_loss: 0.7317 - val_accuracy: 0.7097\n",
      "Epoch 3/20\n",
      "61/61 [==============================] - 2s 35ms/step - loss: 0.1827 - accuracy: 0.9424 - val_loss: 1.0165 - val_accuracy: 0.6798\n",
      "Epoch 4/20\n",
      "61/61 [==============================] - 2s 36ms/step - loss: 0.0857 - accuracy: 0.9749 - val_loss: 1.1881 - val_accuracy: 0.6890\n",
      "Epoch 5/20\n",
      "61/61 [==============================] - 2s 35ms/step - loss: 0.0460 - accuracy: 0.9858 - val_loss: 1.1879 - val_accuracy: 0.6994\n",
      "Epoch 6/20\n",
      "61/61 [==============================] - 2s 35ms/step - loss: 0.0310 - accuracy: 0.9910 - val_loss: 1.4527 - val_accuracy: 0.6746\n",
      "Epoch 7/20\n",
      "61/61 [==============================] - 2s 36ms/step - loss: 0.0240 - accuracy: 0.9943 - val_loss: 1.4963 - val_accuracy: 0.6798\n",
      "Epoch 8/20\n",
      "61/61 [==============================] - 2s 36ms/step - loss: 0.0158 - accuracy: 0.9966 - val_loss: 1.8549 - val_accuracy: 0.6829\n",
      "Epoch 9/20\n",
      "61/61 [==============================] - 2s 36ms/step - loss: 0.0161 - accuracy: 0.9946 - val_loss: 1.8887 - val_accuracy: 0.6581\n",
      "Epoch 10/20\n",
      "61/61 [==============================] - 2s 35ms/step - loss: 0.0120 - accuracy: 0.9972 - val_loss: 1.7648 - val_accuracy: 0.6725\n",
      "Epoch 11/20\n",
      "61/61 [==============================] - 2s 36ms/step - loss: 0.0154 - accuracy: 0.9946 - val_loss: 1.7689 - val_accuracy: 0.6581\n",
      "Epoch 12/20\n",
      "61/61 [==============================] - 2s 36ms/step - loss: 0.0249 - accuracy: 0.9915 - val_loss: 1.5797 - val_accuracy: 0.6849\n",
      "Epoch 13/20\n",
      "61/61 [==============================] - 2s 36ms/step - loss: 0.0287 - accuracy: 0.9899 - val_loss: 1.6349 - val_accuracy: 0.6911\n",
      "Epoch 14/20\n",
      "61/61 [==============================] - 2s 36ms/step - loss: 0.0145 - accuracy: 0.9953 - val_loss: 1.9498 - val_accuracy: 0.6591\n",
      "Epoch 15/20\n",
      "61/61 [==============================] - 2s 36ms/step - loss: 0.0177 - accuracy: 0.9941 - val_loss: 1.7395 - val_accuracy: 0.6952\n",
      "Epoch 16/20\n",
      "61/61 [==============================] - 2s 36ms/step - loss: 0.0099 - accuracy: 0.9969 - val_loss: 1.7128 - val_accuracy: 0.6983\n",
      "Epoch 17/20\n",
      "61/61 [==============================] - 2s 36ms/step - loss: 0.0083 - accuracy: 0.9982 - val_loss: 1.9382 - val_accuracy: 0.6860\n",
      "Epoch 18/20\n",
      "61/61 [==============================] - 2s 36ms/step - loss: 0.0052 - accuracy: 0.9982 - val_loss: 2.0025 - val_accuracy: 0.6921\n",
      "Epoch 19/20\n",
      "61/61 [==============================] - 2s 35ms/step - loss: 0.0045 - accuracy: 0.9982 - val_loss: 1.9676 - val_accuracy: 0.6911\n",
      "Epoch 20/20\n",
      "61/61 [==============================] - 2s 35ms/step - loss: 0.0027 - accuracy: 0.9990 - val_loss: 1.9449 - val_accuracy: 0.6921\n"
     ]
    },
    {
     "data": {
      "text/plain": [
       "<tensorflow.python.keras.callbacks.History at 0x7f687b260ed0>"
      ]
     },
     "execution_count": 141,
     "metadata": {},
     "output_type": "execute_result"
    }
   ],
   "source": [
    "model.fit(X_NN_train, y_train, batch_size=64, epochs=20, validation_data=(X_NN_test, y_test))"
   ]
  },
  {
   "cell_type": "markdown",
   "metadata": {},
   "source": [
    "### BERT"
   ]
  },
  {
   "cell_type": "code",
   "execution_count": 36,
   "metadata": {},
   "outputs": [
    {
     "name": "stderr",
     "output_type": "stream",
     "text": [
      "Some weights of the model checkpoint at bert-base-cased were not used when initializing BertForSequenceClassification: ['cls.predictions.bias', 'cls.predictions.transform.dense.weight', 'cls.predictions.transform.dense.bias', 'cls.predictions.decoder.weight', 'cls.seq_relationship.weight', 'cls.seq_relationship.bias', 'cls.predictions.transform.LayerNorm.weight', 'cls.predictions.transform.LayerNorm.bias']\n",
      "- This IS expected if you are initializing BertForSequenceClassification from the checkpoint of a model trained on another task or with another architecture (e.g. initializing a BertForSequenceClassification model from a BertForPretraining model).\n",
      "- This IS NOT expected if you are initializing BertForSequenceClassification from the checkpoint of a model that you expect to be exactly identical (initializing a BertForSequenceClassification model from a BertForSequenceClassification model).\n",
      "Some weights of BertForSequenceClassification were not initialized from the model checkpoint at bert-base-cased and are newly initialized: ['classifier.weight', 'classifier.bias']\n",
      "You should probably TRAIN this model on a down-stream task to be able to use it for predictions and inference.\n"
     ]
    }
   ],
   "source": [
    "model_args = ClassificationArgs()\n",
    "model_args.train_batch_size = 2\n",
    "model_args.gradient_accumulation_steps = 8\n",
    "model_args.learning_rate = 3e-5\n",
    "model_args.num_train_epochs = 1\n",
    "model_args.reprocess_input_data = True\n",
    "model_args.overwrite_output_dir = True\n",
    "\n",
    "model = ClassificationModel('bert', 'bert-base-cased', \n",
    "                            num_labels=3, \n",
    "                            args=model_args,\n",
    "                            use_cuda=False)"
   ]
  },
  {
   "cell_type": "code",
   "execution_count": 37,
   "metadata": {},
   "outputs": [
    {
     "name": "stderr",
     "output_type": "stream",
     "text": [
      "/home/crispy/anaconda3/lib/python3.7/site-packages/simpletransformers/classification/classification_model.py:353: UserWarning: Dataframe headers not specified. Falling back to using column 0 as text and column 1 as labels.\n",
      "  \"Dataframe headers not specified. Falling back to using column 0 as text and column 1 as labels.\"\n"
     ]
    },
    {
     "data": {
      "application/vnd.jupyter.widget-view+json": {
       "model_id": "97e470c211f04953a354316f1ace4917",
       "version_major": 2,
       "version_minor": 0
      },
      "text/plain": [
       "HBox(children=(HTML(value=''), FloatProgress(value=0.0, max=3870.0), HTML(value='')))"
      ]
     },
     "metadata": {},
     "output_type": "display_data"
    },
    {
     "name": "stdout",
     "output_type": "stream",
     "text": [
      "\n"
     ]
    },
    {
     "data": {
      "application/vnd.jupyter.widget-view+json": {
       "model_id": "b983f2e85506486c9383583b0c6896e2",
       "version_major": 2,
       "version_minor": 0
      },
      "text/plain": [
       "HBox(children=(HTML(value='Epoch'), FloatProgress(value=0.0, max=1.0), HTML(value='')))"
      ]
     },
     "metadata": {},
     "output_type": "display_data"
    },
    {
     "data": {
      "application/vnd.jupyter.widget-view+json": {
       "model_id": "f0ea455ef34d48938f152368cd19351a",
       "version_major": 2,
       "version_minor": 0
      },
      "text/plain": [
       "HBox(children=(HTML(value='Running Epoch 0 of 1'), FloatProgress(value=0.0, max=1935.0), HTML(value='')))"
      ]
     },
     "metadata": {},
     "output_type": "display_data"
    },
    {
     "name": "stdout",
     "output_type": "stream",
     "text": [
      "\n"
     ]
    },
    {
     "name": "stderr",
     "output_type": "stream",
     "text": [
      "/home/crispy/anaconda3/lib/python3.7/site-packages/torch/optim/lr_scheduler.py:216: UserWarning: Please also save or load the state of the optimizer when saving or loading the scheduler.\n",
      "  warnings.warn(SAVE_STATE_WARNING, UserWarning)\n"
     ]
    },
    {
     "name": "stdout",
     "output_type": "stream",
     "text": [
      "\n"
     ]
    },
    {
     "data": {
      "text/plain": [
       "(241, 0.6888989138985014)"
      ]
     },
     "execution_count": 37,
     "metadata": {},
     "output_type": "execute_result"
    }
   ],
   "source": [
    "train_df = pd.DataFrame({\"Message\":X_train,\"Label\":y_train})\n",
    "\n",
    "model.train_model(train_df)"
   ]
  },
  {
   "cell_type": "code",
   "execution_count": 38,
   "metadata": {},
   "outputs": [
    {
     "name": "stderr",
     "output_type": "stream",
     "text": [
      "/home/crispy/anaconda3/lib/python3.7/site-packages/simpletransformers/classification/classification_model.py:851: UserWarning: Dataframe headers not specified. Falling back to using column 0 as text and column 1 as labels.\n",
      "  \"Dataframe headers not specified. Falling back to using column 0 as text and column 1 as labels.\"\n"
     ]
    },
    {
     "data": {
      "application/vnd.jupyter.widget-view+json": {
       "model_id": "c73287ae10134520a7b6da550afef102",
       "version_major": 2,
       "version_minor": 0
      },
      "text/plain": [
       "HBox(children=(HTML(value=''), FloatProgress(value=0.0, max=3870.0), HTML(value='')))"
      ]
     },
     "metadata": {},
     "output_type": "display_data"
    },
    {
     "name": "stdout",
     "output_type": "stream",
     "text": [
      "\n"
     ]
    },
    {
     "data": {
      "application/vnd.jupyter.widget-view+json": {
       "model_id": "ff6c20269d2a4a3b81a88dc5bf4ef9bb",
       "version_major": 2,
       "version_minor": 0
      },
      "text/plain": [
       "HBox(children=(HTML(value='Running Evaluation'), FloatProgress(value=0.0, max=484.0), HTML(value='')))"
      ]
     },
     "metadata": {},
     "output_type": "display_data"
    },
    {
     "name": "stdout",
     "output_type": "stream",
     "text": [
      "\n"
     ]
    }
   ],
   "source": [
    "train_result, train_model_outputs, train_wrong_predictions = model.eval_model(train_df)"
   ]
  },
  {
   "cell_type": "code",
   "execution_count": 39,
   "metadata": {},
   "outputs": [
    {
     "data": {
      "application/vnd.jupyter.widget-view+json": {
       "model_id": "3b643814cba34ccda4fcc315a96e9c5b",
       "version_major": 2,
       "version_minor": 0
      },
      "text/plain": [
       "HBox(children=(HTML(value=''), FloatProgress(value=0.0, max=968.0), HTML(value='')))"
      ]
     },
     "metadata": {},
     "output_type": "display_data"
    },
    {
     "name": "stdout",
     "output_type": "stream",
     "text": [
      "\n"
     ]
    },
    {
     "data": {
      "application/vnd.jupyter.widget-view+json": {
       "model_id": "9bcec9b8036e4c29928d12bd678c806d",
       "version_major": 2,
       "version_minor": 0
      },
      "text/plain": [
       "HBox(children=(HTML(value='Running Evaluation'), FloatProgress(value=0.0, max=121.0), HTML(value='')))"
      ]
     },
     "metadata": {},
     "output_type": "display_data"
    },
    {
     "name": "stdout",
     "output_type": "stream",
     "text": [
      "\n"
     ]
    }
   ],
   "source": [
    "eval_df = pd.DataFrame({\"Message\":X_test,\"Label\":y_test})\n",
    "result, model_outputs, wrong_predictions = model.eval_model(eval_df)"
   ]
  },
  {
   "cell_type": "code",
   "execution_count": 40,
   "metadata": {},
   "outputs": [],
   "source": [
    "train_pred = []\n",
    "for arr in train_model_outputs:\n",
    "    train_pred.append(np.argmax(arr))\n",
    "\n",
    "test_pred = []\n",
    "for arr in model_outputs:\n",
    "    test_pred.append(np.argmax(arr))"
   ]
  },
  {
   "cell_type": "code",
   "execution_count": 41,
   "metadata": {},
   "outputs": [
    {
     "name": "stdout",
     "output_type": "stream",
     "text": [
      "Training Accuracy: 83.66925064599484\n",
      "Test Accuracy: 78.61570247933885\n"
     ]
    }
   ],
   "source": [
    "print(\"Training Accuracy:\",accuracy_score(y_train,train_pred)*100)\n",
    "print(\"Test Accuracy:\",accuracy_score(y_test,test_pred)*100)"
   ]
  },
  {
   "cell_type": "code",
   "execution_count": 42,
   "metadata": {},
   "outputs": [
    {
     "name": "stdout",
     "output_type": "stream",
     "text": [
      "              precision    recall  f1-score   support\n",
      "\n",
      "           0       0.84      0.89      0.87       575\n",
      "           1       0.61      0.78      0.68       121\n",
      "           2       0.77      0.56      0.65       272\n",
      "\n",
      "    accuracy                           0.79       968\n",
      "   macro avg       0.74      0.74      0.73       968\n",
      "weighted avg       0.79      0.79      0.78       968\n",
      "\n"
     ]
    }
   ],
   "source": [
    "print(classification_report(y_test, test_pred))"
   ]
  },
  {
   "cell_type": "code",
   "execution_count": 43,
   "metadata": {},
   "outputs": [
    {
     "data": {
      "image/png": "[encoded data removed]",
      "text/plain": [
       "<Figure size 432x288 with 2 Axes>"
      ]
     },
     "metadata": {
      "needs_background": "light"
     },
     "output_type": "display_data"
    }
   ],
   "source": [
    "cm = confusion_matrix(y_test, test_pred)\n",
    "group_counts = [\"{0:0.0f}\".format(value) for value in cm.flatten()]\n",
    "group_percentages = [\"{0:.2%}\".format(value) for value in cm.flatten()/np.sum(cm)]\n",
    "labels = [f\"{v1}\\n{v2}\" for v1, v2 in zip(group_counts,group_percentages)]\n",
    "labels = np.asarray(labels).reshape(3,3)\n",
    "sns.heatmap(cm, annot=labels, fmt=\"\", cmap='Blues')\n",
    "plt.show()"
   ]
  },
  {
   "cell_type": "markdown",
   "metadata": {},
   "source": [
    "## Models with preprocessing"
   ]
  },
  {
   "cell_type": "code",
   "execution_count": 14,
   "metadata": {},
   "outputs": [
    {
     "name": "stderr",
     "output_type": "stream",
     "text": [
      "[nltk_data] Downloading package stopwords to /home/crispy/nltk_data...\n",
      "[nltk_data]   Package stopwords is already up-to-date!\n",
      "[nltk_data] Downloading package punkt to /home/crispy/nltk_data...\n",
      "[nltk_data]   Package punkt is already up-to-date!\n",
      "[nltk_data] Downloading package averaged_perceptron_tagger to\n",
      "[nltk_data]     /home/crispy/nltk_data...\n",
      "[nltk_data]   Package averaged_perceptron_tagger is already up-to-\n",
      "[nltk_data]       date!\n",
      "[nltk_data] Downloading package wordnet to /home/crispy/nltk_data...\n",
      "[nltk_data]   Package wordnet is already up-to-date!\n"
     ]
    },
    {
     "data": {
      "text/plain": [
       "True"
      ]
     },
     "execution_count": 14,
     "metadata": {},
     "output_type": "execute_result"
    }
   ],
   "source": [
    "import nltk\n",
    "nltk.download('stopwords')\n",
    "nltk.download('punkt')\n",
    "nltk.download('averaged_perceptron_tagger')\n",
    "nltk.download('wordnet')"
   ]
  },
  {
   "cell_type": "code",
   "execution_count": 15,
   "metadata": {},
   "outputs": [],
   "source": [
    "from nltk.corpus import stopwords, wordnet\n",
    "from nltk import pos_tag\n",
    "from nltk.stem import WordNetLemmatizer\n",
    "from nltk.tokenize import word_tokenize,sent_tokenize\n",
    "from string import punctuation"
   ]
  },
  {
   "cell_type": "code",
   "execution_count": 16,
   "metadata": {},
   "outputs": [
    {
     "name": "stdout",
     "output_type": "stream",
     "text": [
      "{'himself', 'him', 'ma', 'how', 'they', 'll', 'mustn', 'because', 'ain', 'won', '/', 'or', '}', 'while', 'any', 'for', \"couldn't\", '?', \"that'll\", 'itself', 'the', \"didn't\", 'we', \"shouldn't\", '|', 'this', \"aren't\", 'his', 'what', 'after', 'an', 'here', 'should', 'o', 'can', 'yourself', 'their', ';', 'wouldn', '`', '_', 'myself', \"mightn't\", '~', 'each', \"don't\", \"should've\", 'those', '-', 'up', 'all', 'yours', 'have', 'down', 'couldn', 'hers', 'you', \"hasn't\", 'such', \"shan't\", '!', 'more', 'other', 'do', 'me', 'both', 've', 'be', 'then', 'does', ')', 'am', \"it's\", 'about', 'through', 'some', 'my', 'shan', '<', 'y', ',', 'so', '{', 'during', 'on', 'd', 'now', 'to', 'he', 'and', 'm', 'only', 'was', 'whom', '*', 'doesn', \"weren't\", 'with', '$', \"needn't\", 'is', \"you'll\", 'themselves', 'isn', '+', \"'\", '.', 'hadn', 'between', 'herself', 'why', 'needn', 'if', '[', \"you're\", \"wouldn't\", \"doesn't\", \"you'd\", \"mustn't\", 'being', 'once', 'i', 'until', 'at', \"isn't\", 'when', 'there', 'further', 'just', \"wasn't\", 'but', 'its', 'which', 'in', 'had', 'a', 'out', 'again', 'didn', '(', 'she', 'our', 'own', ':', 't', 'your', \"haven't\", 'were', 'same', 'did', 'before', '>', 'them', 'wasn', '&', 're', '=', '\"', 'theirs', \"won't\", 'above', 'off', 'having', 'by', 'too', 'no', 'been', '#', 'these', '\\\\', '@', 'than', 'not', 'that', 'most', '^', 'from', 'under', 'over', 'of', \"you've\", 'weren', 'as', \"she's\", 'it', 'very', 'against', 'shouldn', 'where', 'has', 'hasn', 's', 'aren', 'don', 'her', 'few', 'will', 'haven', 'ours', ']', \"hadn't\", 'who', 'are', 'ourselves', 'below', 'mightn', 'doing', 'into', 'nor', 'yourselves'}\n"
     ]
    }
   ],
   "source": [
    "stop = set(stopwords.words('english'))\n",
    "stop.update(punctuation)\n",
    "stop.discard('%')\n",
    "print(stop)"
   ]
  },
  {
   "cell_type": "code",
   "execution_count": 17,
   "metadata": {},
   "outputs": [],
   "source": [
    "def get_simple_pos(tag):\n",
    "    if tag.startswith('J'):\n",
    "        return wordnet.ADJ\n",
    "    elif tag.startswith('V'):\n",
    "        return wordnet.VERB\n",
    "    elif tag.startswith('N'):\n",
    "        return wordnet.NOUN\n",
    "    elif tag.startswith('R'):\n",
    "        return wordnet.ADV\n",
    "    else:\n",
    "        return wordnet.NOUN"
   ]
  },
  {
   "cell_type": "code",
   "execution_count": 18,
   "metadata": {},
   "outputs": [],
   "source": [
    "lemmatizer = WordNetLemmatizer()\n",
    "def clean_review(text):\n",
    "    clean_text = []\n",
    "    for w in word_tokenize(text):\n",
    "        if w.lower() not in stop:\n",
    "            pos = pos_tag([w])\n",
    "            new_w = lemmatizer.lemmatize(w, pos=get_simple_pos(pos[0][1]))\n",
    "            clean_text.append(new_w)\n",
    "    return clean_text\n",
    "\n",
    "def join_text(text):\n",
    "    return \" \".join(text)"
   ]
  },
  {
   "cell_type": "code",
   "execution_count": 19,
   "metadata": {},
   "outputs": [],
   "source": [
    "X_normalized = X.apply(clean_review)\n",
    "X_normalized = X_normalized.apply(join_text)"
   ]
  },
  {
   "cell_type": "markdown",
   "metadata": {},
   "source": [
    "### View the normalized and cleaned data"
   ]
  },
  {
   "cell_type": "code",
   "execution_count": 20,
   "metadata": {},
   "outputs": [
    {
     "name": "stdout",
     "output_type": "stream",
     "text": [
      "News Item 3188: company expect meat purchase remain 8mn kilo 2011\n",
      "Sentiment: 0\n",
      "\n",
      "\n",
      "News Item 3950: could u time `` say\n",
      "Sentiment: 0\n",
      "\n",
      "\n",
      "News Item 624: testament quality LTE solution commitment Japanese market add\n",
      "Sentiment: 0\n",
      "\n",
      "\n",
      "News Item 4455: stable outlook reflect Nokia 's strong market position global mobile handset market strong cash flow generation conservative balance sheet say Raab\n",
      "Sentiment: 2\n",
      "\n",
      "\n",
      "News Item 4475: Creating interface similar interaction real world enable experience natural intuitive way modern game movie immersive use realistic 3-D graphic\n",
      "Sentiment: 0\n",
      "\n",
      "\n",
      "News Item 1705: Net sale Finnish Sanoma Learning Literature Finnish medium group Sanoma decrease 3.6 % January-June 2009 total EUR 162.8 mn EUR 168.8 mn correspond period 2008\n",
      "Sentiment: 1\n",
      "\n",
      "\n",
      "News Item 4197: resignation take effect immediately\n",
      "Sentiment: 0\n",
      "\n",
      "\n",
      "News Item 1439: product include Personal Communications product mobile phone part Home Communications product set-top box electronics flat panel TVs well Communications Networks product base-stations tower-top amplifier microwave system\n",
      "Sentiment: 0\n",
      "\n",
      "\n",
      "News Item 3102: Rapala VMC Corporation Rapala Finland-based company engage manufacture distribution fishing equipment accessory\n",
      "Sentiment: 0\n",
      "\n",
      "\n",
      "News Item 2970: Intellisync Wireless Email Nokia full-featured wireless e-mail solution connects user e-mail calendar contact note task list away office accord company\n",
      "Sentiment: 0\n",
      "\n",
      "\n"
     ]
    }
   ],
   "source": [
    "for i in np.random.randint(X_normalized.shape[0],size=10):\n",
    "    print(f'News Item {i}: {X_normalized[i]}')\n",
    "    print(f'Sentiment: {y[i]}')\n",
    "    print('\\n')"
   ]
  },
  {
   "cell_type": "markdown",
   "metadata": {},
   "source": [
    "### Split the dataset"
   ]
  },
  {
   "cell_type": "code",
   "execution_count": 21,
   "metadata": {},
   "outputs": [],
   "source": [
    "X_train, X_test, y_train, y_test = train_test_split(X_normalized,y,test_size=0.2,stratify=y, random_state=0)"
   ]
  },
  {
   "cell_type": "markdown",
   "metadata": {},
   "source": [
    "**Bag of Words Model to preprocess text into a suitable form**"
   ]
  },
  {
   "cell_type": "code",
   "execution_count": 234,
   "metadata": {},
   "outputs": [],
   "source": [
    "count_vec = CountVectorizer(max_features=8000, ngram_range=(1,2))\n",
    "tfidf = TfidfTransformer()"
   ]
  },
  {
   "cell_type": "code",
   "execution_count": 235,
   "metadata": {},
   "outputs": [],
   "source": [
    "X_train_features = count_vec.fit_transform(X_train)\n",
    "X_test_features = count_vec.transform(X_test)\n",
    "\n",
    "X_train_features = tfidf.fit_transform(X_train_features)\n",
    "X_test_features = tfidf.transform(X_test_features)"
   ]
  },
  {
   "cell_type": "code",
   "execution_count": 236,
   "metadata": {},
   "outputs": [
    {
     "data": {
      "text/plain": [
       "(3870, 8000)"
      ]
     },
     "execution_count": 236,
     "metadata": {},
     "output_type": "execute_result"
    }
   ],
   "source": [
    "X_train_features.shape"
   ]
  },
  {
   "cell_type": "markdown",
   "metadata": {},
   "source": [
    "### Multinomial Naive Bayes"
   ]
  },
  {
   "cell_type": "code",
   "execution_count": 237,
   "metadata": {},
   "outputs": [],
   "source": [
    "nb_clf = MultinomialNB()\n",
    "\n",
    "nb_clf.fit(X_train_features, y_train)\n",
    "\n",
    "y_pred_train = nb_clf.predict(X_train_features)\n",
    "y_pred_test = nb_clf.predict(X_test_features)"
   ]
  },
  {
   "cell_type": "code",
   "execution_count": 238,
   "metadata": {},
   "outputs": [
    {
     "name": "stdout",
     "output_type": "stream",
     "text": [
      "Training Accuracy: 76.5374677002584\n",
      "Test Accuracy: 69.93801652892562\n"
     ]
    }
   ],
   "source": [
    "print(\"Training Accuracy:\",accuracy_score(y_train,y_pred_train)*100)\n",
    "print(\"Test Accuracy:\",accuracy_score(y_test,y_pred_test)*100)"
   ]
  },
  {
   "cell_type": "code",
   "execution_count": 239,
   "metadata": {},
   "outputs": [
    {
     "name": "stdout",
     "output_type": "stream",
     "text": [
      "              precision    recall  f1-score   support\n",
      "\n",
      "           0       0.70      0.97      0.82       575\n",
      "           1       0.86      0.16      0.27       121\n",
      "           2       0.65      0.36      0.46       272\n",
      "\n",
      "    accuracy                           0.70       968\n",
      "   macro avg       0.74      0.50      0.52       968\n",
      "weighted avg       0.71      0.70      0.65       968\n",
      "\n"
     ]
    }
   ],
   "source": [
    "print(classification_report(y_test, y_pred_test))"
   ]
  },
  {
   "cell_type": "code",
   "execution_count": 240,
   "metadata": {},
   "outputs": [
    {
     "data": {
      "image/png": "[encoded data removed]",
      "text/plain": [
       "<Figure size 432x288 with 2 Axes>"
      ]
     },
     "metadata": {
      "needs_background": "light"
     },
     "output_type": "display_data"
    }
   ],
   "source": [
    "cm = confusion_matrix(y_test, y_pred_test)\n",
    "group_counts = [\"{0:0.0f}\".format(value) for value in cm.flatten()]\n",
    "group_percentages = [\"{0:.2%}\".format(value) for value in cm.flatten()/np.sum(cm)]\n",
    "labels = [f\"{v1}\\n{v2}\" for v1, v2 in zip(group_counts,group_percentages)]\n",
    "labels = np.asarray(labels).reshape(3,3)\n",
    "sns.heatmap(cm, annot=labels, fmt=\"\", cmap='Blues')\n",
    "plt.show()"
   ]
  },
  {
   "cell_type": "markdown",
   "metadata": {},
   "source": [
    "### Logisitic Regression"
   ]
  },
  {
   "cell_type": "code",
   "execution_count": 241,
   "metadata": {},
   "outputs": [],
   "source": [
    "lr = LogisticRegression()\n",
    "\n",
    "lr.fit(X_train_features, y_train)\n",
    "\n",
    "y_pred_train = lr.predict(X_train_features)\n",
    "y_pred_test = lr.predict(X_test_features)"
   ]
  },
  {
   "cell_type": "code",
   "execution_count": 242,
   "metadata": {},
   "outputs": [
    {
     "name": "stdout",
     "output_type": "stream",
     "text": [
      "Training Accuracy: 86.95090439276485\n",
      "Test Accuracy: 73.24380165289256\n"
     ]
    }
   ],
   "source": [
    "print(\"Training Accuracy:\",accuracy_score(y_train,y_pred_train)*100)\n",
    "print(\"Test Accuracy:\",accuracy_score(y_test,y_pred_test)*100)"
   ]
  },
  {
   "cell_type": "code",
   "execution_count": 243,
   "metadata": {},
   "outputs": [
    {
     "name": "stdout",
     "output_type": "stream",
     "text": [
      "              precision    recall  f1-score   support\n",
      "\n",
      "           0       0.75      0.93      0.83       575\n",
      "           1       0.65      0.36      0.46       121\n",
      "           2       0.71      0.48      0.57       272\n",
      "\n",
      "    accuracy                           0.73       968\n",
      "   macro avg       0.70      0.59      0.62       968\n",
      "weighted avg       0.72      0.73      0.71       968\n",
      "\n"
     ]
    }
   ],
   "source": [
    "print(classification_report(y_test, y_pred_test))"
   ]
  },
  {
   "cell_type": "code",
   "execution_count": 244,
   "metadata": {},
   "outputs": [
    {
     "data": {
      "image/png": "[encoded data removed]",
      "text/plain": [
       "<Figure size 432x288 with 2 Axes>"
      ]
     },
     "metadata": {
      "needs_background": "light"
     },
     "output_type": "display_data"
    }
   ],
   "source": [
    "cm = confusion_matrix(y_test, y_pred_test)\n",
    "group_counts = [\"{0:0.0f}\".format(value) for value in cm.flatten()]\n",
    "group_percentages = [\"{0:.2%}\".format(value) for value in cm.flatten()/np.sum(cm)]\n",
    "labels = [f\"{v1}\\n{v2}\" for v1, v2 in zip(group_counts,group_percentages)]\n",
    "labels = np.asarray(labels).reshape(3,3)\n",
    "sns.heatmap(cm, annot=labels, fmt=\"\", cmap='Blues')\n",
    "plt.show()"
   ]
  },
  {
   "cell_type": "markdown",
   "metadata": {},
   "source": [
    "### Support Vector Machines"
   ]
  },
  {
   "cell_type": "code",
   "execution_count": 245,
   "metadata": {},
   "outputs": [],
   "source": [
    "svc = SVC()\n",
    "\n",
    "svc.fit(X_train_features, y_train)\n",
    "\n",
    "y_pred_train = svc.predict(X_train_features)\n",
    "y_pred_test = svc.predict(X_test_features)"
   ]
  },
  {
   "cell_type": "code",
   "execution_count": 246,
   "metadata": {},
   "outputs": [
    {
     "name": "stdout",
     "output_type": "stream",
     "text": [
      "Training Accuracy: 97.13178294573643\n",
      "Test Accuracy: 72.31404958677686\n"
     ]
    }
   ],
   "source": [
    "print(\"Training Accuracy:\",accuracy_score(y_train,y_pred_train)*100)\n",
    "print(\"Test Accuracy:\",accuracy_score(y_test,y_pred_test)*100)"
   ]
  },
  {
   "cell_type": "code",
   "execution_count": 247,
   "metadata": {},
   "outputs": [
    {
     "name": "stdout",
     "output_type": "stream",
     "text": [
      "              precision    recall  f1-score   support\n",
      "\n",
      "           0       0.72      0.97      0.83       575\n",
      "           1       0.66      0.29      0.40       121\n",
      "           2       0.75      0.40      0.53       272\n",
      "\n",
      "    accuracy                           0.72       968\n",
      "   macro avg       0.71      0.55      0.58       968\n",
      "weighted avg       0.72      0.72      0.69       968\n",
      "\n"
     ]
    }
   ],
   "source": [
    "print(classification_report(y_test, y_pred_test))"
   ]
  },
  {
   "cell_type": "code",
   "execution_count": 248,
   "metadata": {},
   "outputs": [
    {
     "data": {
      "image/png": "[encoded data removed]",
      "text/plain": [
       "<Figure size 432x288 with 2 Axes>"
      ]
     },
     "metadata": {
      "needs_background": "light"
     },
     "output_type": "display_data"
    }
   ],
   "source": [
    "cm = confusion_matrix(y_test, y_pred_test)\n",
    "group_counts = [\"{0:0.0f}\".format(value) for value in cm.flatten()]\n",
    "group_percentages = [\"{0:.2%}\".format(value) for value in cm.flatten()/np.sum(cm)]\n",
    "labels = [f\"{v1}\\n{v2}\" for v1, v2 in zip(group_counts,group_percentages)]\n",
    "labels = np.asarray(labels).reshape(3,3)\n",
    "sns.heatmap(cm, annot=labels, fmt=\"\", cmap='Blues')\n",
    "plt.show()"
   ]
  },
  {
   "cell_type": "markdown",
   "metadata": {},
   "source": [
    "### Neural Network"
   ]
  },
  {
   "cell_type": "code",
   "execution_count": 22,
   "metadata": {},
   "outputs": [],
   "source": [
    "# Number of unique words to include \n",
    "VOCAB_SIZE = 9000\n",
    "\n",
    "# Length of each sentence. Sentences shorter than this will be padded and sentences longer will be truncated\n",
    "MAX_LENGTH = 300\n",
    "\n",
    "# Define the Out of Vocabulary character\n",
    "OOV_TOK = '<UNK>'"
   ]
  },
  {
   "cell_type": "code",
   "execution_count": 23,
   "metadata": {},
   "outputs": [],
   "source": [
    "tokenizer = Tokenizer(num_words=VOCAB_SIZE, oov_token=OOV_TOK, filters='!\"#$&()*+,-./:;<=>?@[\\]^_`{|}~')\n",
    "tokenizer.fit_on_texts(X_train)"
   ]
  },
  {
   "cell_type": "code",
   "execution_count": 24,
   "metadata": {},
   "outputs": [],
   "source": [
    "word_index = tokenizer.word_index"
   ]
  },
  {
   "cell_type": "code",
   "execution_count": 25,
   "metadata": {},
   "outputs": [],
   "source": [
    "X_sequences_train = tokenizer.texts_to_sequences(X_train)\n",
    "X_sequences_test = tokenizer.texts_to_sequences(X_test)"
   ]
  },
  {
   "cell_type": "code",
   "execution_count": 26,
   "metadata": {},
   "outputs": [],
   "source": [
    "X_NN_train = pad_sequences(X_sequences_train, maxlen=MAX_LENGTH, padding='post',truncating='pre')\n",
    "X_NN_test = pad_sequences(X_sequences_test, maxlen=MAX_LENGTH, padding='post',truncating='pre')"
   ]
  },
  {
   "cell_type": "code",
   "execution_count": 27,
   "metadata": {},
   "outputs": [
    {
     "data": {
      "text/plain": [
       "(3870, 300)"
      ]
     },
     "execution_count": 27,
     "metadata": {},
     "output_type": "execute_result"
    }
   ],
   "source": [
    "X_NN_train.shape"
   ]
  },
  {
   "cell_type": "code",
   "execution_count": 28,
   "metadata": {},
   "outputs": [],
   "source": [
    "EMBEDDING_DIM = 128"
   ]
  },
  {
   "cell_type": "code",
   "execution_count": 29,
   "metadata": {},
   "outputs": [],
   "source": [
    "model = Sequential([\n",
    "    Embedding(VOCAB_SIZE, EMBEDDING_DIM, input_length=MAX_LENGTH, mask_zero=True),\n",
    "    Bidirectional(LSTM(64, return_sequences=True)),\n",
    "    Bidirectional(LSTM(32)),\n",
    "    Dense(64, activation=\"relu\"),\n",
    "    Dense(3, activation=\"softmax\")\n",
    "])"
   ]
  },
  {
   "cell_type": "code",
   "execution_count": 30,
   "metadata": {},
   "outputs": [
    {
     "name": "stdout",
     "output_type": "stream",
     "text": [
      "Model: \"sequential\"\n",
      "_________________________________________________________________\n",
      "Layer (type)                 Output Shape              Param #   \n",
      "=================================================================\n",
      "embedding (Embedding)        (None, 300, 128)          1152000   \n",
      "_________________________________________________________________\n",
      "bidirectional (Bidirectional (None, 300, 128)          98816     \n",
      "_________________________________________________________________\n",
      "bidirectional_1 (Bidirection (None, 64)                41216     \n",
      "_________________________________________________________________\n",
      "dense (Dense)                (None, 64)                4160      \n",
      "_________________________________________________________________\n",
      "dense_1 (Dense)              (None, 3)                 195       \n",
      "=================================================================\n",
      "Total params: 1,296,387\n",
      "Trainable params: 1,296,387\n",
      "Non-trainable params: 0\n",
      "_________________________________________________________________\n"
     ]
    }
   ],
   "source": [
    "model.summary()"
   ]
  },
  {
   "cell_type": "code",
   "execution_count": 31,
   "metadata": {},
   "outputs": [],
   "source": [
    "model.compile(optimizer=\"adam\", loss=\"sparse_categorical_crossentropy\", metrics=[\"accuracy\"])"
   ]
  },
  {
   "cell_type": "code",
   "execution_count": 32,
   "metadata": {},
   "outputs": [
    {
     "name": "stdout",
     "output_type": "stream",
     "text": [
      "Epoch 1/20\n",
      "61/61 [==============================] - 5s 79ms/step - loss: 0.8927 - accuracy: 0.6137 - val_loss: 0.7539 - val_accuracy: 0.6694\n",
      "Epoch 2/20\n",
      "61/61 [==============================] - 2s 33ms/step - loss: 0.5462 - accuracy: 0.7576 - val_loss: 0.6644 - val_accuracy: 0.7221\n",
      "Epoch 3/20\n",
      "61/61 [==============================] - 2s 33ms/step - loss: 0.2530 - accuracy: 0.9106 - val_loss: 0.7701 - val_accuracy: 0.7355\n",
      "Epoch 4/20\n",
      "61/61 [==============================] - 2s 34ms/step - loss: 0.1275 - accuracy: 0.9636 - val_loss: 0.9774 - val_accuracy: 0.7438\n",
      "Epoch 5/20\n",
      "61/61 [==============================] - 2s 34ms/step - loss: 0.0737 - accuracy: 0.9786 - val_loss: 1.1028 - val_accuracy: 0.7169\n",
      "Epoch 6/20\n",
      "61/61 [==============================] - 2s 34ms/step - loss: 0.0560 - accuracy: 0.9842 - val_loss: 1.1433 - val_accuracy: 0.7283\n",
      "Epoch 7/20\n",
      "61/61 [==============================] - 2s 34ms/step - loss: 0.0396 - accuracy: 0.9904 - val_loss: 1.3666 - val_accuracy: 0.7345\n",
      "Epoch 8/20\n",
      "61/61 [==============================] - 2s 33ms/step - loss: 0.0324 - accuracy: 0.9910 - val_loss: 1.5512 - val_accuracy: 0.7479\n",
      "Epoch 9/20\n",
      "61/61 [==============================] - 2s 33ms/step - loss: 0.0238 - accuracy: 0.9951 - val_loss: 1.4262 - val_accuracy: 0.7366\n",
      "Epoch 10/20\n",
      "61/61 [==============================] - 2s 33ms/step - loss: 0.0243 - accuracy: 0.9938 - val_loss: 1.5487 - val_accuracy: 0.7324\n",
      "Epoch 11/20\n",
      "61/61 [==============================] - 2s 33ms/step - loss: 0.0223 - accuracy: 0.9943 - val_loss: 1.5320 - val_accuracy: 0.7283\n",
      "Epoch 12/20\n",
      "61/61 [==============================] - 2s 33ms/step - loss: 0.0221 - accuracy: 0.9938 - val_loss: 1.4985 - val_accuracy: 0.7221\n",
      "Epoch 13/20\n",
      "61/61 [==============================] - 2s 34ms/step - loss: 0.0136 - accuracy: 0.9961 - val_loss: 1.5589 - val_accuracy: 0.7314\n",
      "Epoch 14/20\n",
      "61/61 [==============================] - 2s 33ms/step - loss: 0.0251 - accuracy: 0.9941 - val_loss: 1.3437 - val_accuracy: 0.7262\n",
      "Epoch 15/20\n",
      "61/61 [==============================] - 2s 33ms/step - loss: 0.0175 - accuracy: 0.9956 - val_loss: 1.4334 - val_accuracy: 0.7242\n",
      "Epoch 16/20\n",
      "61/61 [==============================] - 2s 34ms/step - loss: 0.0111 - accuracy: 0.9974 - val_loss: 1.6015 - val_accuracy: 0.7231\n",
      "Epoch 17/20\n",
      "61/61 [==============================] - 2s 34ms/step - loss: 0.0105 - accuracy: 0.9977 - val_loss: 1.7158 - val_accuracy: 0.7211\n",
      "Epoch 18/20\n",
      "61/61 [==============================] - 2s 33ms/step - loss: 0.0312 - accuracy: 0.9920 - val_loss: 1.5231 - val_accuracy: 0.7149\n",
      "Epoch 19/20\n",
      "61/61 [==============================] - 2s 34ms/step - loss: 0.0247 - accuracy: 0.9920 - val_loss: 1.5282 - val_accuracy: 0.7180\n",
      "Epoch 20/20\n",
      "61/61 [==============================] - 2s 34ms/step - loss: 0.0107 - accuracy: 0.9969 - val_loss: 1.6967 - val_accuracy: 0.7231\n"
     ]
    },
    {
     "data": {
      "text/plain": [
       "<tensorflow.python.keras.callbacks.History at 0x7f6854471b90>"
      ]
     },
     "execution_count": 32,
     "metadata": {},
     "output_type": "execute_result"
    }
   ],
   "source": [
    "model.fit(X_NN_train, y_train, batch_size=64, epochs=20, validation_data=(X_NN_test, y_test))"
   ]
  },
  {
   "cell_type": "markdown",
   "metadata": {},
   "source": [
    "### BERT"
   ]
  },
  {
   "cell_type": "code",
   "execution_count": 22,
   "metadata": {},
   "outputs": [
    {
     "name": "stderr",
     "output_type": "stream",
     "text": [
      "Some weights of the model checkpoint at bert-base-cased were not used when initializing BertForSequenceClassification: ['cls.predictions.bias', 'cls.predictions.transform.dense.weight', 'cls.predictions.transform.dense.bias', 'cls.predictions.decoder.weight', 'cls.seq_relationship.weight', 'cls.seq_relationship.bias', 'cls.predictions.transform.LayerNorm.weight', 'cls.predictions.transform.LayerNorm.bias']\n",
      "- This IS expected if you are initializing BertForSequenceClassification from the checkpoint of a model trained on another task or with another architecture (e.g. initializing a BertForSequenceClassification model from a BertForPretraining model).\n",
      "- This IS NOT expected if you are initializing BertForSequenceClassification from the checkpoint of a model that you expect to be exactly identical (initializing a BertForSequenceClassification model from a BertForSequenceClassification model).\n",
      "Some weights of BertForSequenceClassification were not initialized from the model checkpoint at bert-base-cased and are newly initialized: ['classifier.weight', 'classifier.bias']\n",
      "You should probably TRAIN this model on a down-stream task to be able to use it for predictions and inference.\n"
     ]
    }
   ],
   "source": [
    "model_args = ClassificationArgs()\n",
    "model_args.train_batch_size = 2\n",
    "model_args.gradient_accumulation_steps = 8\n",
    "model_args.learning_rate = 3e-5\n",
    "model_args.num_train_epochs = 1\n",
    "model_args.reprocess_input_data = True\n",
    "model_args.overwrite_output_dir = True\n",
    "\n",
    "model = ClassificationModel('bert', 'bert-base-cased', \n",
    "                            num_labels=3, \n",
    "                            args=model_args,\n",
    "                            use_cuda=False)"
   ]
  },
  {
   "cell_type": "code",
   "execution_count": null,
   "metadata": {},
   "outputs": [
    {
     "data": {
      "application/vnd.jupyter.widget-view+json": {
       "model_id": "9f4fec91459c42dbbcb4a396e2760b35",
       "version_major": 2,
       "version_minor": 0
      },
      "text/plain": [
       "HBox(children=(HTML(value=''), FloatProgress(value=0.0, max=3870.0), HTML(value='')))"
      ]
     },
     "metadata": {},
     "output_type": "display_data"
    },
    {
     "name": "stdout",
     "output_type": "stream",
     "text": [
      "\n"
     ]
    },
    {
     "data": {
      "application/vnd.jupyter.widget-view+json": {
       "model_id": "ae5625b7b0ce41b6a1fcc0da32655765",
       "version_major": 2,
       "version_minor": 0
      },
      "text/plain": [
       "HBox(children=(HTML(value='Epoch'), FloatProgress(value=0.0, max=1.0), HTML(value='')))"
      ]
     },
     "metadata": {},
     "output_type": "display_data"
    },
    {
     "data": {
      "application/vnd.jupyter.widget-view+json": {
       "model_id": "ee5c8e9d1a05477daa8a9349d107e529",
       "version_major": 2,
       "version_minor": 0
      },
      "text/plain": [
       "HBox(children=(HTML(value='Running Epoch 0 of 1'), FloatProgress(value=0.0, max=1935.0), HTML(value='')))"
      ]
     },
     "metadata": {},
     "output_type": "display_data"
    }
   ],
   "source": [
    "train_df = pd.DataFrame({\"Message\":X_train,\"Label\":y_train})\n",
    "\n",
    "model.train_model(train_df)"
   ]
  },
  {
   "cell_type": "code",
   "execution_count": null,
   "metadata": {},
   "outputs": [],
   "source": [
    "train_result, train_model_outputs, train_wrong_predictions = model.eval_model(train_df)"
   ]
  },
  {
   "cell_type": "code",
   "execution_count": null,
   "metadata": {},
   "outputs": [],
   "source": [
    "eval_df = pd.DataFrame({\"Message\":X_test,\"Label\":y_test})\n",
    "result, model_outputs, wrong_predictions = model.eval_model(eval_df)"
   ]
  },
  {
   "cell_type": "code",
   "execution_count": null,
   "metadata": {},
   "outputs": [],
   "source": [
    "train_pred = []\n",
    "for arr in train_model_outputs:\n",
    "    train_pred.append(np.argmax(arr))\n",
    "\n",
    "test_pred = []\n",
    "for arr in model_outputs:\n",
    "    test_pred.append(np.argmax(arr))"
   ]
  },
  {
   "cell_type": "code",
   "execution_count": null,
   "metadata": {},
   "outputs": [],
   "source": [
    "print(\"Training Accuracy:\",accuracy_score(y_train,train_pred)*100)\n",
    "print(\"Test Accuracy:\",accuracy_score(y_test,test_pred)*100)"
   ]
  },
  {
   "cell_type": "code",
   "execution_count": null,
   "metadata": {},
   "outputs": [],
   "source": [
    "print(classification_report(y_test, test_pred))"
   ]
  },
  {
   "cell_type": "code",
   "execution_count": null,
   "metadata": {},
   "outputs": [],
   "source": [
    "cm = confusion_matrix(y_test, test_pred)\n",
    "group_counts = [\"{0:0.0f}\".format(value) for value in cm.flatten()]\n",
    "group_percentages = [\"{0:.2%}\".format(value) for value in cm.flatten()/np.sum(cm)]\n",
    "labels = [f\"{v1}\\n{v2}\" for v1, v2 in zip(group_counts,group_percentages)]\n",
    "labels = np.asarray(labels).reshape(3,3)\n",
    "sns.heatmap(cm, annot=labels, fmt=\"\", cmap='Blues')\n",
    "plt.show()"
   ]
  },
  {
   "cell_type": "code",
   "execution_count": null,
   "metadata": {},
   "outputs": [],
   "source": []
  }
 ],
 "metadata": {
  "kernelspec": {
   "display_name": "Python 3",
   "language": "python",
   "name": "python3"
  },
  "language_info": {
   "codemirror_mode": {
    "name": "ipython",
    "version": 3
   },
   "file_extension": ".py",
   "mimetype": "text/x-python",
   "name": "python",
   "nbconvert_exporter": "python",
   "pygments_lexer": "ipython3",
   "version": "3.7.6"
  }
 },
 "nbformat": 4,
 "nbformat_minor": 4
}
